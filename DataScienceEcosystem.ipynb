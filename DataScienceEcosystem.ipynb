{
  "metadata": {
    "kernelspec": {
      "name": "python",
      "display_name": "Python (Pyodide)",
      "language": "python"
    },
    "language_info": {
      "codemirror_mode": {
        "name": "python",
        "version": 3
      },
      "file_extension": ".py",
      "mimetype": "text/x-python",
      "name": "python",
      "nbconvert_exporter": "python",
      "pygments_lexer": "ipython3",
      "version": "3.8"
    }
  },
  "nbformat_minor": 5,
  "nbformat": 4,
  "cells": [
    {
      "id": "b4e2a215-8867-4d56-a3ee-edf406b5934f",
      "cell_type": "markdown",
      "source": "# Data Science Tools and Ecosystem",
      "metadata": {}
    },
    {
      "id": "0c15def4-b4d7-459f-80f5-cf6f15e392d6",
      "cell_type": "markdown",
      "source": "In this notebook, Data Science Tools and Ecosystem are summarized.",
      "metadata": {}
    },
    {
      "id": "fa9ca954-416d-4ae1-ac7f-e86f3495bd01",
      "cell_type": "markdown",
      "source": "Some of the popular languages that Data Scientists use are:",
      "metadata": {}
    },
    {
      "id": "cf8e86cb-fcce-4b5f-bd36-d624294608d0",
      "cell_type": "markdown",
      "source": "1. Python\n2. Sql\n3. R\n4. Julia",
      "metadata": {}
    },
    {
      "id": "a7929a70-ee9c-4d2d-86a9-1773c9dc6975",
      "cell_type": "markdown",
      "source": "Some of the commonly used libraries used by Data Scientists include:",
      "metadata": {}
    },
    {
      "id": "68352923-6923-4f74-8dcc-85f83c7a31e3",
      "cell_type": "markdown",
      "source": "1. Pandas\n2. Numpy\n3. Matplotlib\n4. Seaborn",
      "metadata": {}
    },
    {
      "id": "a7e53a05-12fa-49e6-bdce-cfff732b0428",
      "cell_type": "markdown",
      "source": "|Data Science Tools|\n|:----------------:|\n|Apache Spark|\n|Weka|\n|Apache Hadoop|\n",
      "metadata": {}
    },
    {
      "id": "f6edee4e-c06f-4d5c-b171-babb5627bc91",
      "cell_type": "markdown",
      "source": "Below are a few examples of evaluating arithmetic expressions in Python",
      "metadata": {}
    },
    {
      "id": "9fd0b593-e882-4564-bcca-1e4f31581c70",
      "cell_type": "code",
      "source": "(3*4)+5 #This a simple arithmetic expression to mutiply then add integers",
      "metadata": {
        "trusted": true
      },
      "outputs": [
        {
          "execution_count": 2,
          "output_type": "execute_result",
          "data": {
            "text/plain": "17"
          },
          "metadata": {}
        }
      ],
      "execution_count": 2
    },
    {
      "id": "1a468306-9c13-4523-8884-387031944757",
      "cell_type": "code",
      "source": "hours= 200/60\nprint (f\" Hours in 200 are {hours}\") #This will convert 200 minutes to hours by diving by 60",
      "metadata": {
        "trusted": true
      },
      "outputs": [
        {
          "name": "stdout",
          "output_type": "stream",
          "text": " Hours in 200 are 3.3333333333333335\n"
        }
      ],
      "execution_count": 6
    },
    {
      "id": "21311e19-bc27-4a44-833a-7c6cb77cffaf",
      "cell_type": "markdown",
      "source": "**Objectives:**\n\n- Python\n- Sql  \n- R \n- Julia\n- Scala",
      "metadata": {}
    },
    {
      "id": "95b88fa9-1a5b-4d35-aec4-90585ddb9e16",
      "cell_type": "markdown",
      "source": "## Author\nRohaan Ali",
      "metadata": {}
    },
    {
      "id": "fa710642-0a48-4345-8a28-6c849a122f6d",
      "cell_type": "code",
      "source": "",
      "metadata": {
        "trusted": true
      },
      "outputs": [],
      "execution_count": null
    }
  ]
}